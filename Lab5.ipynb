{
  "nbformat": 4,
  "nbformat_minor": 0,
  "metadata": {
    "colab": {
      "provenance": [],
      "authorship_tag": "ABX9TyMqU33TjiIAKbsPUgd7uPiq"
    },
    "kernelspec": {
      "name": "python3",
      "display_name": "Python 3"
    },
    "language_info": {
      "name": "python"
    }
  },
  "cells": [
    {
      "cell_type": "code",
      "execution_count": 3,
      "metadata": {
        "id": "ZLJ3r6oJIU2Z"
      },
      "outputs": [],
      "source": [
        "# 1.The following is a list of 10 students ages:\n",
        "# ages = [19, 22, 19, 24, 20, 25, 26, 24, 25, 24]\n",
        "ages = [19, 22, 19, 24, 20, 25, 26, 24, 25, 24]\n"
      ]
    },
    {
      "cell_type": "code",
      "source": [
        "# Sort the list and find the min and max age\n",
        "ages.sort()\n",
        "min_age = ages[0]\n",
        "max_age = ages[-1]\n",
        "print(f\"Sorted ages: {ages}\")\n",
        "print(f\"Min age: {min_age}, Max age: {max_age}\")\n"
      ],
      "metadata": {
        "colab": {
          "base_uri": "https://localhost:8080/"
        },
        "id": "43eawpltJTye",
        "outputId": "d686b4c3-9721-4ad5-92a1-ef83eea36271"
      },
      "execution_count": 4,
      "outputs": [
        {
          "output_type": "stream",
          "name": "stdout",
          "text": [
            "Sorted ages: [19, 19, 20, 22, 24, 24, 24, 25, 25, 26]\n",
            "Min age: 19, Max age: 26\n"
          ]
        }
      ]
    },
    {
      "cell_type": "code",
      "source": [
        "# Add the min age and the max age again to the list\n",
        "ages.append(min_age)\n",
        "ages.append(max_age)\n",
        "print(f\"Updated ages list: {ages}\")\n",
        "\n"
      ],
      "metadata": {
        "colab": {
          "base_uri": "https://localhost:8080/"
        },
        "id": "s96cn_ACJWPs",
        "outputId": "23a407f1-6d68-4835-e6e6-f79241d6fd4f"
      },
      "execution_count": 5,
      "outputs": [
        {
          "output_type": "stream",
          "name": "stdout",
          "text": [
            "Updated ages list: [19, 19, 20, 22, 24, 24, 24, 25, 25, 26, 19, 26]\n"
          ]
        }
      ]
    },
    {
      "cell_type": "code",
      "source": [
        "# Find the median age (one middle item or two middle items divided by two)\n",
        "n = len(ages)\n",
        "if n % 2 == 1:\n",
        "    median_age = ages[n // 2]\n",
        "else:\n",
        "    median_age = (ages[n // 2 - 1] + ages[n // 2]) / 2\n",
        "print(f\"Median age: {median_age}\")\n",
        "\n",
        "\n"
      ],
      "metadata": {
        "colab": {
          "base_uri": "https://localhost:8080/"
        },
        "id": "jZ_pe3HrJX2V",
        "outputId": "62cdca26-b3f0-4bb0-dd84-1dc72f72f775"
      },
      "execution_count": 6,
      "outputs": [
        {
          "output_type": "stream",
          "name": "stdout",
          "text": [
            "Median age: 24.0\n"
          ]
        }
      ]
    },
    {
      "cell_type": "code",
      "source": [
        "# Find the average age (sum of all items divided by their number )\n",
        "average_age = sum(ages) / len(ages)\n",
        "print(f\"Average age: {average_age}\")\n"
      ],
      "metadata": {
        "colab": {
          "base_uri": "https://localhost:8080/"
        },
        "id": "tCxCezgGJZJd",
        "outputId": "4338e91c-44de-46f5-9686-97e421cedd73"
      },
      "execution_count": 7,
      "outputs": [
        {
          "output_type": "stream",
          "name": "stdout",
          "text": [
            "Average age: 22.75\n"
          ]
        }
      ]
    },
    {
      "cell_type": "code",
      "source": [
        "# Find the range of the ages (max minus min)\n",
        "age_range = max_age - min_age\n",
        "print(f\"Range of ages: {age_range}\")\n"
      ],
      "metadata": {
        "colab": {
          "base_uri": "https://localhost:8080/"
        },
        "id": "wn1gc38wJdpl",
        "outputId": "c651d4b1-8afa-4956-b8c1-f417b1d57ed1"
      },
      "execution_count": 8,
      "outputs": [
        {
          "output_type": "stream",
          "name": "stdout",
          "text": [
            "Range of ages: 7\n"
          ]
        }
      ]
    },
    {
      "cell_type": "code",
      "source": [
        "# Compare the value of (min - average) and (max - average), use _abs()_ method\n",
        "diff_min_avg = abs(min_age - average_age)\n",
        "diff_max_avg = abs(max_age - average_age)\n",
        "print(f\"Difference between min and average: {diff_min_avg}\")\n",
        "print(f\"Difference between max and average: {diff_max_avg}\")\n"
      ],
      "metadata": {
        "colab": {
          "base_uri": "https://localhost:8080/"
        },
        "id": "2JjC0Os1JgaN",
        "outputId": "229ee59f-9fb7-42f6-cd8c-52bc9cee8db5"
      },
      "execution_count": 9,
      "outputs": [
        {
          "output_type": "stream",
          "name": "stdout",
          "text": [
            "Difference between min and average: 3.75\n",
            "Difference between max and average: 3.25\n"
          ]
        }
      ]
    },
    {
      "cell_type": "code",
      "source": [
        " # 2.Iterate through the list, ['Python', 'Numpy','Pandas','Django', 'Flask'] using a for loop and print out the items.\n",
        "\n",
        "technologies = ['Python', 'Numpy', 'Pandas', 'Django', 'Flask']\n",
        "for tech in technologies:\n",
        "    print(tech)\n"
      ],
      "metadata": {
        "colab": {
          "base_uri": "https://localhost:8080/"
        },
        "id": "32G6P4u-I1fE",
        "outputId": "457d448e-e5a0-47f1-f26e-053f225fd14a"
      },
      "execution_count": 10,
      "outputs": [
        {
          "output_type": "stream",
          "name": "stdout",
          "text": [
            "Python\n",
            "Numpy\n",
            "Pandas\n",
            "Django\n",
            "Flask\n"
          ]
        }
      ]
    },
    {
      "cell_type": "code",
      "source": [
        "# 3.Create fruits, vegetables and animal products tuples.\n",
        "# Join the three tuples and assign it to a variable called food_stuff_tp.\n",
        "\n",
        "fruits = ('apple', 'banana', 'orange')\n",
        "vegetables = ('carrot', 'potato', 'broccoli')\n",
        "animal_products = ('milk', 'cheese', 'yogurt')\n",
        "food_stuff_tp = fruits + vegetables + animal_products\n",
        "print(f\"Food stuff tuple: {food_stuff_tp}\")\n"
      ],
      "metadata": {
        "colab": {
          "base_uri": "https://localhost:8080/"
        },
        "id": "ghTadnWwJEa9",
        "outputId": "a33848ec-e981-4d7f-ab00-c0167970b254"
      },
      "execution_count": 36,
      "outputs": [
        {
          "output_type": "stream",
          "name": "stdout",
          "text": [
            "Food stuff tuple: ('apple', 'banana', 'orange', 'carrot', 'potato', 'broccoli', 'milk', 'cheese', 'yogurt')\n"
          ]
        }
      ]
    },
    {
      "cell_type": "code",
      "source": [
        "# Change the about food_stuff_tp  tuple to a food_stuff_lt list\n",
        "food_stuff_lt = list(food_stuff_tp)\n",
        "print(f\"Food stuff list: {food_stuff_lt}\")\n"
      ],
      "metadata": {
        "colab": {
          "base_uri": "https://localhost:8080/"
        },
        "id": "Tk3mg37VKk-V",
        "outputId": "866ebace-300b-42cd-f756-9d5802ed24a2"
      },
      "execution_count": 37,
      "outputs": [
        {
          "output_type": "stream",
          "name": "stdout",
          "text": [
            "Food stuff list: ['apple', 'banana', 'orange', 'carrot', 'potato', 'broccoli', 'milk', 'cheese', 'yogurt']\n"
          ]
        }
      ]
    },
    {
      "cell_type": "code",
      "source": [
        "# Slice out the middle item or items from the food_stuff_tp tuple or food_stuff_lt list.\n",
        "def get_middle_items(sequence):\n",
        "    n = len(sequence)\n",
        "    if n % 2 == 1:\n",
        "        # Odd length: single middle item\n",
        "        middle_item = sequence[n // 2]\n",
        "        return (middle_item,)\n",
        "    else:\n",
        "        # Even length: two middle items\n",
        "        middle_items = sequence[n // 2 - 1:n // 2 + 1]\n",
        "        return middle_items\n",
        "\n",
        "# Slicing middle items from tuple\n",
        "middle_items_tp = get_middle_items(food_stuff_tp)\n",
        "print(f\"Middle item(s) from tuple: {middle_items_tp}\")\n",
        "\n",
        "# Slicing middle items from list\n",
        "middle_items_lt = get_middle_items(food_stuff_lt)\n",
        "print(f\"Middle item(s) from list: {middle_items_lt}\")\n"
      ],
      "metadata": {
        "colab": {
          "base_uri": "https://localhost:8080/"
        },
        "id": "a5by8Cs6Ko32",
        "outputId": "2d121ebb-b921-433f-90e5-f57b557f38bc"
      },
      "execution_count": 38,
      "outputs": [
        {
          "output_type": "stream",
          "name": "stdout",
          "text": [
            "Middle item(s) from tuple: ('potato',)\n",
            "Middle item(s) from list: ('potato',)\n"
          ]
        }
      ]
    },
    {
      "cell_type": "code",
      "source": [
        "# Slice out the first three items and the last three items from food_staff_lt list\n",
        "first_three = food_stuff_lt[:3]\n",
        "last_three = food_stuff_lt[-3:]\n",
        "print(f\"First three items: {first_three}\")\n",
        "print(f\"Last three items: {last_three}\")\n"
      ],
      "metadata": {
        "colab": {
          "base_uri": "https://localhost:8080/"
        },
        "id": "_4y9qHpcKqeO",
        "outputId": "6102c565-a751-4e5b-cef4-d8e2b64e8432"
      },
      "execution_count": 19,
      "outputs": [
        {
          "output_type": "stream",
          "name": "stdout",
          "text": [
            "First three items: ['apple', 'banana', 'orange']\n",
            "Last three items: ['milk', 'cheese', 'yogurt']\n"
          ]
        }
      ]
    },
    {
      "cell_type": "code",
      "source": [
        "# Delete the food_staff_tp tuple completely\n",
        "del food_stuff_tp\n"
      ],
      "metadata": {
        "id": "WnFoYb5FKr2d"
      },
      "execution_count": 20,
      "outputs": []
    },
    {
      "cell_type": "code",
      "source": [
        "# 4. From the above sets A and B\n",
        "# Join A and B\n",
        "A = {19, 22, 24, 20, 25, 26}\n",
        "B = {19, 22, 20, 25, 26, 24, 28, 27}\n",
        "\n",
        "union_AB = A | B\n",
        "print(f\"Union of A and B: {union_AB}\")\n"
      ],
      "metadata": {
        "colab": {
          "base_uri": "https://localhost:8080/"
        },
        "id": "QASm445ILudH",
        "outputId": "4a542a8e-155e-4419-e0fa-43476c799163"
      },
      "execution_count": 29,
      "outputs": [
        {
          "output_type": "stream",
          "name": "stdout",
          "text": [
            "Union of A and B: {19, 20, 22, 24, 25, 26, 27, 28}\n"
          ]
        }
      ]
    },
    {
      "cell_type": "code",
      "source": [
        "# Find A intersection B\n",
        "\n",
        "intersection_AB = A & B\n",
        "print(f\"Intersection of A and B: {intersection_AB}\")\n",
        "\n"
      ],
      "metadata": {
        "colab": {
          "base_uri": "https://localhost:8080/"
        },
        "id": "8Uge8UJuMWq-",
        "outputId": "c3efd648-7c4f-4b57-8385-985e56cacf16"
      },
      "execution_count": 30,
      "outputs": [
        {
          "output_type": "stream",
          "name": "stdout",
          "text": [
            "Intersection of A and B: {19, 20, 22, 24, 25, 26}\n"
          ]
        }
      ]
    },
    {
      "cell_type": "code",
      "source": [
        "# Is A subset of B\n",
        "is_subset = A.issubset(B)\n",
        "print(f\"Is A a subset of B: {is_subset}\")\n"
      ],
      "metadata": {
        "colab": {
          "base_uri": "https://localhost:8080/"
        },
        "id": "faasVbjbMYXG",
        "outputId": "1f4592ca-3d2e-4f31-a5ad-e082e9460fe5"
      },
      "execution_count": 31,
      "outputs": [
        {
          "output_type": "stream",
          "name": "stdout",
          "text": [
            "Is A a subset of B: True\n"
          ]
        }
      ]
    },
    {
      "cell_type": "code",
      "source": [
        "# Are A and B disjoint sets\n",
        "are_disjoint = A.isdisjoint(B)\n",
        "print(f\"Are A and B disjoint sets: {are_disjoint}\")\n"
      ],
      "metadata": {
        "colab": {
          "base_uri": "https://localhost:8080/"
        },
        "id": "LGcbxx9vMaQd",
        "outputId": "5ed3c67a-5cca-4fa1-80b7-e6e88bfb0522"
      },
      "execution_count": 32,
      "outputs": [
        {
          "output_type": "stream",
          "name": "stdout",
          "text": [
            "Are A and B disjoint sets: False\n"
          ]
        }
      ]
    },
    {
      "cell_type": "code",
      "source": [
        "# Join A with B and B with A\n",
        "union_A_with_B = A | B\n",
        "union_B_with_A = B | A\n",
        "print(f\"Union of A with B: {union_A_with_B}\")\n",
        "print(f\"Union of B with A: {union_B_with_A}\")\n"
      ],
      "metadata": {
        "colab": {
          "base_uri": "https://localhost:8080/"
        },
        "id": "Y6U_5579Mb90",
        "outputId": "50fc09ce-cd0d-4540-a057-6c08808ea933"
      },
      "execution_count": 33,
      "outputs": [
        {
          "output_type": "stream",
          "name": "stdout",
          "text": [
            "Union of A with B: {19, 20, 22, 24, 25, 26, 27, 28}\n",
            "Union of B with A: {19, 20, 22, 24, 25, 26, 27, 28}\n"
          ]
        }
      ]
    },
    {
      "cell_type": "code",
      "source": [
        "# What is the symmetric difference between A and B\n",
        "symmetric_diff = A ^ B\n",
        "print(f\"Symmetric difference between A and B: {symmetric_diff}\")\n"
      ],
      "metadata": {
        "colab": {
          "base_uri": "https://localhost:8080/"
        },
        "id": "vJCRWwGBMdt-",
        "outputId": "709fdd48-aff9-4515-ab1d-0e4e88b8e01d"
      },
      "execution_count": 34,
      "outputs": [
        {
          "output_type": "stream",
          "name": "stdout",
          "text": [
            "Symmetric difference between A and B: {27, 28}\n"
          ]
        }
      ]
    },
    {
      "cell_type": "code",
      "source": [
        "# Delete the sets completely\n",
        "del A\n",
        "del B\n"
      ],
      "metadata": {
        "id": "9Mu6keJAMfmt"
      },
      "execution_count": 35,
      "outputs": []
    },
    {
      "cell_type": "code",
      "source": [
        "# 5. Create an empty dictionary called dog.Add name, color, breed, legs, age to the dog dictionary\n",
        "# Create an empty dictionary\n",
        "dog = {}\n",
        "\n",
        "# Add attributes to the dictionary\n",
        "dog['name'] = 'Rex'\n",
        "dog['color'] = 'Brown'\n",
        "dog['breed'] = 'Labrador'\n",
        "dog['legs'] = 4\n",
        "dog['age'] = 5\n",
        "\n",
        "# Print the dictionary to verify\n",
        "print(dog)\n"
      ],
      "metadata": {
        "colab": {
          "base_uri": "https://localhost:8080/"
        },
        "id": "TR5PIylGNvjG",
        "outputId": "8f27ee98-4832-457e-9033-ade5ed984763"
      },
      "execution_count": 39,
      "outputs": [
        {
          "output_type": "stream",
          "name": "stdout",
          "text": [
            "{'name': 'Rex', 'color': 'Brown', 'breed': 'Labrador', 'legs': 4, 'age': 5}\n"
          ]
        }
      ]
    },
    {
      "cell_type": "code",
      "source": [
        "# 6. Create a student dictionary and add first_name, last_name, gender, age, marital status, skills, country, city and address as keys for the dictionary\n",
        "# Get the length of the student dictionary\n",
        "# Create the student dictionary with initial values\n",
        "student = {\n",
        "    'first_name': 'John',\n",
        "    'last_name': 'Doe',\n",
        "    'gender': 'Male',\n",
        "    'age': 20,\n",
        "    'marital_status': 'Single',\n",
        "    'skills': ['Python', 'JavaScript'],\n",
        "    'country': 'USA',\n",
        "    'city': 'New York',\n",
        "    'address': '123 Main St'\n",
        "}\n",
        "length = len(student)\n",
        "print(f\"Length of the student dictionary: {length}\")\n",
        "\n"
      ],
      "metadata": {
        "id": "R3_LnA3uOF91"
      },
      "execution_count": null,
      "outputs": []
    },
    {
      "cell_type": "code",
      "source": [
        "# Get the value of skills and check the data type, it should be a list\n",
        "skills = student['skills']\n",
        "print(f\"Skills: {skills}\")\n",
        "print(f\"Data type of skills: {type(skills)}\")\n"
      ],
      "metadata": {
        "id": "iJ8IykEQOS2N"
      },
      "execution_count": null,
      "outputs": []
    },
    {
      "cell_type": "code",
      "source": [
        "# Modify the skills values by adding one or two skills\n",
        "student['skills'].extend(['Django', 'Flask'])\n",
        "print(f\"Updated skills: {student['skills']}\")\n"
      ],
      "metadata": {
        "id": "orKqRdoLOUP1"
      },
      "execution_count": null,
      "outputs": []
    },
    {
      "cell_type": "code",
      "source": [
        "# Get the dictionary keys as a list\n",
        "keys_list = list(student.keys())\n",
        "print(f\"Dictionary keys: {keys_list}\")\n"
      ],
      "metadata": {
        "id": "PahBkkXNOViO"
      },
      "execution_count": null,
      "outputs": []
    },
    {
      "cell_type": "code",
      "source": [
        "# Get the dictionary values as a list\n",
        "values_list = list(student.values())\n",
        "print(f\"Dictionary values: {values_list}\")\n"
      ],
      "metadata": {
        "id": "u8kvCvXdOXCs"
      },
      "execution_count": null,
      "outputs": []
    },
    {
      "cell_type": "code",
      "source": [
        "# Change the dictionary to a list of tuples using _items()_ method\n",
        "items_list = list(student.items())\n",
        "print(f\"Dictionary items as a list of tuples: {items_list}\")\n"
      ],
      "metadata": {
        "id": "OzESbKluOYfF"
      },
      "execution_count": null,
      "outputs": []
    },
    {
      "cell_type": "code",
      "source": [
        "# Delete one of the items in the dictionary\n",
        "del student['address']\n",
        "print(f\"Student dictionary after deleting address: {student}\")\n"
      ],
      "metadata": {
        "id": "kCEXPy7cOazs"
      },
      "execution_count": null,
      "outputs": []
    },
    {
      "cell_type": "code",
      "source": [
        "# Delete one of the dictionaries\n",
        "del student\n"
      ],
      "metadata": {
        "id": "mh9WtpbTOcAl"
      },
      "execution_count": null,
      "outputs": []
    },
    {
      "cell_type": "code",
      "source": [
        "# 7.Create a person dictionary.\n",
        "#   person={\n",
        "#     'first_name': 'Asabeneh',\n",
        "#     'last_name': 'Yetayeh',\n",
        "#     'age': 250,\n",
        "#     'country': 'Finland',\n",
        "#     'is_marred': True,\n",
        "#     'skills': ['JavaScript', 'React', 'Node', 'MongoDB', 'Python'],\n",
        "#     'address': {\n",
        "#         'street': 'Space street',\n",
        "#         'zipcode': '02210'\n",
        "#     }\n",
        "#     }\n",
        "# Check if the person dictionary has skills key, if so print out the middle skill in the skills list.\n",
        "# Check if the person dictionary has skills key, if so check if the person has 'Python' skill and print out the result.\n",
        "# If a person skills has only JavaScript and React, print('He is a front end developer'), if the person skills has Node, Python, MongoDB, print('He is a backend developer'), if the person skills has React, Node and MongoDB, Print('He is a fullstack developer'), else print('unknown title') - for more accurate results more conditions can be nested!\n",
        "# If the person is married and if he lives in Finland, print the information in the following format:\n",
        "\n",
        "# ```py\n",
        "#     Asabeneh Yetayeh lives in Finland. He is married.\n",
        "# ``\n",
        "# Create the person dictionary\n",
        "person = {\n",
        "    'first_name': 'Asabeneh',\n",
        "    'last_name': 'Yetayeh',\n",
        "    'age': 250,\n",
        "    'country': 'Finland',\n",
        "    'is_married': True,  # Fixed typo from 'is_marred' to 'is_married'\n",
        "    'skills': ['JavaScript', 'React', 'Node', 'MongoDB', 'Python'],\n",
        "    'address': {\n",
        "        'street': 'Space street',\n",
        "        'zipcode': '02210'\n",
        "    }\n",
        "}\n",
        "\n",
        "# Check if 'skills' key exists\n",
        "if 'skills' in person:\n",
        "    skills = person['skills']\n",
        "    # Find and print the middle skill\n",
        "    n = len(skills)\n",
        "    if n % 2 == 1:\n",
        "        middle_skill = skills[n // 2]\n",
        "        print(f\"Middle skill: {middle_skill}\")\n",
        "    else:\n",
        "        middle_skills = skills[n // 2 - 1:n // 2 + 1]\n",
        "        print(f\"Middle skills: {middle_skills}\")\n"
      ],
      "metadata": {
        "id": "fowaBtTeSU_1"
      },
      "execution_count": null,
      "outputs": []
    },
    {
      "cell_type": "code",
      "source": [
        "# Check if 'skills' key exists and if 'Python' is in the list\n",
        "if 'skills' in person:\n",
        "    has_python = 'Python' in person['skills']\n",
        "    print(f\"Has Python skill: {has_python}\")\n"
      ],
      "metadata": {
        "id": "22NqRMqESY5V"
      },
      "execution_count": null,
      "outputs": []
    },
    {
      "cell_type": "code",
      "source": [
        "# Determine the title based on skills\n",
        "if 'skills' in person:\n",
        "    skills = person['skills']\n",
        "\n",
        "    if 'JavaScript' in skills and 'React' in skills and len(skills) == 2:\n",
        "        print('He is a front end developer')\n",
        "    elif 'Node' in skills and 'Python' in skills and 'MongoDB' in skills:\n",
        "        print('He is a backend developer')\n",
        "    elif 'React' in skills and 'Node' in skills and 'MongoDB' in skills:\n",
        "        print('He is a fullstack developer')\n",
        "    else:\n",
        "        print('unknown title')\n"
      ],
      "metadata": {
        "id": "_E1Gd8kjSaUP"
      },
      "execution_count": null,
      "outputs": []
    },
    {
      "cell_type": "code",
      "source": [
        "# Print information if married and lives in Finland\n",
        "if person.get('is_married') and person.get('country') == 'Finland':\n",
        "    print(f\"{person['first_name']} {person['last_name']} lives in {person['country']}. He is married.\")\n"
      ],
      "metadata": {
        "id": "rpOcYcqIScIl"
      },
      "execution_count": null,
      "outputs": []
    },
    {
      "cell_type": "code",
      "source": [
        "# 8. Print the season name of the year based on the month number using a dictionary.\n",
        "# Create a dictionary mapping month numbers to seasons\n",
        "seasons = {\n",
        "    1: 'Winter',   # January\n",
        "    2: 'Winter',   # February\n",
        "    3: 'Spring',   # March\n",
        "    4: 'Spring',   # April\n",
        "    5: 'Spring',   # May\n",
        "    6: 'Summer',   # June\n",
        "    7: 'Summer',   # July\n",
        "    8: 'Summer',   # August\n",
        "    9: 'Autumn',   # September\n",
        "    10: 'Autumn',  # October\n",
        "    11: 'Autumn',  # November\n",
        "    12: 'Winter'   # December\n",
        "}\n",
        "\n",
        "# Function to print the season based on month number\n",
        "def print_season(month_number):\n",
        "    # Check if month_number is valid\n",
        "    if 1 <= month_number <= 12:\n",
        "        season = seasons[month_number]\n",
        "        print(f\"Month {month_number} corresponds to {season}.\")\n",
        "    else:\n",
        "        print(\"Invalid month number. Please enter a number between 1 and 12.\")\n",
        "\n",
        "# Example usage\n",
        "print_season(1)  # January\n",
        "print_season(4)  # April\n",
        "print_season(8)  # August\n",
        "print_season(12) # December\n",
        "print_season(15) # Invalid month number\n"
      ],
      "metadata": {
        "id": "2E6jr9P4SmcF"
      },
      "execution_count": null,
      "outputs": []
    }
  ]
}