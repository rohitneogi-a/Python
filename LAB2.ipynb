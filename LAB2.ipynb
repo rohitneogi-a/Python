{
 "cells": [
  {
   "cell_type": "code",
   "execution_count": 3,
   "metadata": {},
   "outputs": [
    {
     "name": "stdout",
     "output_type": "stream",
     "text": [
      "Sum of square roots are:15.90\n"
     ]
    }
   ],
   "source": [
    "#1. To find the sum of square root of any three numbers.\n",
    "def sqrt_sum(a,b,c):\n",
    "    sum = a**0.5+b**0.5+c**0.5\n",
    "    return sum\n",
    "\n",
    "num1 = float(input(\"Enter First number:\"))\n",
    "num2 = float(input(\"Enter Second number:\"))\n",
    "num3 = float(input(\"Enter Third number:\"))\n",
    "\n",
    "result = sqrt_sum(num1,num2,num3)\n",
    "\n",
    "print(f\"Sum of square roots are:{result:.2f}\")\n"
   ]
  },
  {
   "cell_type": "code",
   "execution_count": 4,
   "metadata": {},
   "outputs": [
    {
     "name": "stdout",
     "output_type": "stream",
     "text": [
      "The roots of the equation 1.0x^2 + -3.0x + 2.0 = 0 are: (2.0, 1.0)\n"
     ]
    }
   ],
   "source": [
    "#2. To solve the quadratic equation.\n",
    "def quad(a,b,c):\n",
    "    disc = b**2-4*a*c\n",
    "\n",
    "    if disc<0:\n",
    "        return None\n",
    "    sqrt_disc = disc**0.5\n",
    "    x1 = (-b+sqrt_disc)/2*a\n",
    "    x2 = (-b-sqrt_disc)/2*a\n",
    "\n",
    "    return x1, x2\n",
    "a = float(input(\"Enter First number:\"))\n",
    "b = float(input(\"Enter Second number:\"))\n",
    "c = float(input(\"Enter Third number:\"))\n",
    "\n",
    "result = quad(a,b,c)\n",
    "if result:\n",
    "    print(f\"The roots of the equation {a}x^2 + {b}x + {c} = 0 are: {result}\")\n",
    "else:\n",
    "    print(\"The equation has no real roots.\")"
   ]
  },
  {
   "cell_type": "code",
   "execution_count": 7,
   "metadata": {},
   "outputs": [
    {
     "name": "stdout",
     "output_type": "stream",
     "text": [
      "Gcd of 36.0 and 24.0:12.00\n"
     ]
    }
   ],
   "source": [
    "#3. Find GCD of two numbers\n",
    "def gcd(a,b):\n",
    "    while b!=0:\n",
    "        a,b = b,a%b\n",
    "    return a\n",
    "a = float(input(\"Enter First number:\"))\n",
    "b = float(input(\"Enter Second number:\"))\n",
    "\n",
    "res = gcd(a,b)\n",
    "print (f\"Gcd of {a} and {b}:{res:.2f}\")"
   ]
  },
  {
   "cell_type": "code",
   "execution_count": 8,
   "metadata": {},
   "outputs": [
    {
     "name": "stdout",
     "output_type": "stream",
     "text": [
      "5 to the power of 8 is: 390625\n",
      "Square root of 400 is: 20.0\n",
      "Exponent of 5 is: 3125\n",
      "Logarithm of 625 base 5 is: 4.0\n"
     ]
    }
   ],
   "source": [
    "#4. Compute a)5 to the power of 8 b)square root of 400 c)exponent of 5 d)Logarithm of 625 base 5\n",
    "import math\n",
    "power = 5**8\n",
    "sqrt = 400**0.5\n",
    "exp = 5**5\n",
    "log = math.log(625,5)\n",
    "print(f\"5 to the power of 8 is: {power}\")\n",
    "print(f\"Square root of 400 is: {sqrt}\")\n",
    "print(f\"Exponent of 5 is: {exp}\")\n",
    "print(f\"Logarithm of 625 base 5 is: {log}\")\n"
   ]
  },
  {
   "cell_type": "code",
   "execution_count": 9,
   "metadata": {},
   "outputs": [
    {
     "name": "stdout",
     "output_type": "stream",
     "text": [
      "sin(60 degrees) is: 0.8660254037844386\n",
      "cos(pi) is: -1.0\n",
      "sin(0.8660254037844386) is: 0.7617599814162892\n",
      "tan(90 degrees) is: 1.633123935319537e+16\n"
     ]
    }
   ],
   "source": [
    "#5. Compute a)sin of 60 degree b)cos of pi c)sin(0.8660254037844386) d)tan of 90 degree\n",
    "import math\n",
    "sin_60_deg = math.sin(math.radians(60))\n",
    "cos_pi = math.cos(math.pi)\n",
    "sin_val = math.sin(0.8660254037844386)\n",
    "tan_90_deg = math.tan(math.radians(90))\n",
    "print(f\"sin(60 degrees) is: {sin_60_deg}\")\n",
    "print(f\"cos(pi) is: {cos_pi}\")\n",
    "print(f\"sin(0.8660254037844386) is: {sin_val}\")\n",
    "print(f\"tan(90 degrees) is: {tan_90_deg}\")"
   ]
  },
  {
   "cell_type": "code",
   "execution_count": null,
   "metadata": {},
   "outputs": [],
   "source": []
  }
 ],
 "metadata": {
  "kernelspec": {
   "display_name": "Python 3",
   "language": "python",
   "name": "python3"
  },
  "language_info": {
   "codemirror_mode": {
    "name": "ipython",
    "version": 3
   },
   "file_extension": ".py",
   "mimetype": "text/x-python",
   "name": "python",
   "nbconvert_exporter": "python",
   "pygments_lexer": "ipython3",
   "version": "3.12.4"
  }
 },
 "nbformat": 4,
 "nbformat_minor": 2
}
