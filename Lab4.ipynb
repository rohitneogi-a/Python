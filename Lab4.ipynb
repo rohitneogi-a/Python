{
  "nbformat": 4,
  "nbformat_minor": 0,
  "metadata": {
    "colab": {
      "provenance": [],
      "authorship_tag": "ABX9TyOUJdMVK6FD/1sN/W4TvfnL"
    },
    "kernelspec": {
      "name": "python3",
      "display_name": "Python 3"
    },
    "language_info": {
      "name": "python"
    }
  },
  "cells": [
    {
      "cell_type": "code",
      "execution_count": null,
      "metadata": {
        "colab": {
          "base_uri": "https://localhost:8080/"
        },
        "id": "fCLeOPc3B-eK",
        "outputId": "f08b128c-7508-4341-ed62-544eb3090389"
      },
      "outputs": [
        {
          "output_type": "stream",
          "name": "stdout",
          "text": [
            "Enter a string: India is my motherland.\n",
            "Length of the string: 23\n",
            "Occurrences of the substring 'country': 0\n",
            "Occurrences of each word:\n",
            "india: 1\n",
            "is: 1\n",
            "my: 1\n",
            "motherland.: 1\n"
          ]
        }
      ],
      "source": [
        "#1. Write a program to enter a string. Calculate the length of the string. Find the substring country.\n",
        "# Count the occurences of each word in the given sentence.\n",
        "def main():\n",
        "    input_string = input(\"Enter a string: \")\n",
        "    string_length = len(input_string)\n",
        "    print(f\"Length of the string: {string_length}\")\n",
        "\n",
        "    substring = \"country\"\n",
        "    substring_count = input_string.lower().count(substring.lower())\n",
        "    print(f\"Occurrences of the substring '{substring}': {substring_count}\")\n",
        "\n",
        "    word_list = input_string.split()\n",
        "    word_count = {}\n",
        "\n",
        "    for word in word_list:\n",
        "        normalized_word = word.lower()\n",
        "        if normalized_word in word_count:\n",
        "            word_count[normalized_word] += 1\n",
        "        else:\n",
        "            word_count[normalized_word] = 1\n",
        "\n",
        "    print(\"Occurrences of each word:\")\n",
        "    for word, count in word_count.items():\n",
        "        print(f\"{word}: {count}\")\n",
        "\n",
        "if __name__ == \"__main__\":\n",
        "    main()\n"
      ]
    },
    {
      "cell_type": "code",
      "source": [
        "if __name__ == \"__main__\":\n",
        "    main()"
      ],
      "metadata": {
        "colab": {
          "base_uri": "https://localhost:8080/"
        },
        "id": "jY6dXPj8C8Vq",
        "outputId": "01016fc3-6040-4d07-8d0b-ea07fc641a00"
      },
      "execution_count": null,
      "outputs": [
        {
          "output_type": "stream",
          "name": "stdout",
          "text": [
            "Enter a string: I love my country.\n",
            "Length of the string: 18\n",
            "Occurrences of the substring 'country': 1\n",
            "Occurrences of each word:\n",
            "i: 1\n",
            "love: 1\n",
            "my: 1\n",
            "country.: 1\n"
          ]
        }
      ]
    },
    {
      "cell_type": "code",
      "source": [
        "if __name__ == \"__main__\":\n",
        "    main()"
      ],
      "metadata": {
        "colab": {
          "base_uri": "https://localhost:8080/"
        },
        "id": "LulYaaytDCiW",
        "outputId": "543e8e88-d657-422d-db30-6bae9eb99da7"
      },
      "execution_count": null,
      "outputs": [
        {
          "output_type": "stream",
          "name": "stdout",
          "text": [
            "Enter a string: Capital of India is New Delhi.\n",
            "Length of the string: 30\n",
            "Occurrences of the substring 'country': 0\n",
            "Occurrences of each word:\n",
            "capital: 1\n",
            "of: 1\n",
            "india: 1\n",
            "is: 1\n",
            "new: 1\n",
            "delhi.: 1\n"
          ]
        }
      ]
    },
    {
      "cell_type": "code",
      "source": [
        "#2.Write a program that accepts a comma separated sequence of words as input and prints the words\n",
        "# in a comma-separated sequence after sorting them alphabetically.\n",
        "# Suppose the following input is supplied to the program:\n",
        "# without,hello,bag,world\n",
        "# Then, the output should be:\n",
        "# bag,hello,without,world\n",
        "\n",
        "input_string = input()\n",
        "words_list = input_string.split(',')\n",
        "words_list.sort()\n",
        "sorted_string = ','.join(words_list)\n",
        "print(sorted_string)\n"
      ],
      "metadata": {
        "id": "EY2M8fJKDqFb",
        "colab": {
          "base_uri": "https://localhost:8080/"
        },
        "outputId": "8bea5dcd-b531-4470-8d53-bbcd98b2eba9"
      },
      "execution_count": null,
      "outputs": [
        {
          "output_type": "stream",
          "name": "stdout",
          "text": [
            "without,hello,bag,world\n",
            "bag,hello,without,world\n"
          ]
        }
      ]
    },
    {
      "cell_type": "code",
      "source": [
        "# 3. Write a program that accepts sequence of lines as input and prints the lines after making all\n",
        "# characters in the sentence capitalized.\n",
        "# Suppose the following input is supplied to the program:\n",
        "# Hello world\n",
        "# Practice makes perfect\n",
        "# Then, the output should be:\n",
        "# HELLO WORLD\n",
        "# PRACTICE MAKES PERFECT\n",
        "\n",
        "def capitalize_lines():\n",
        "    lines = []\n",
        "\n",
        "    print(\"Enter lines of text (type 'DONE' on a new line to finish):\")\n",
        "\n",
        "    while True:\n",
        "        line = input()\n",
        "        if line == 'DONE':\n",
        "            break\n",
        "        lines.append(line)\n",
        "\n",
        "    for line in lines:\n",
        "        print(line.upper())\n",
        "\n",
        "capitalize_lines()\n",
        "\n",
        "\n"
      ],
      "metadata": {
        "colab": {
          "base_uri": "https://localhost:8080/"
        },
        "id": "ag5lUTgsxsbd",
        "outputId": "065b9045-47ae-4cc6-e8d5-17e4fe6ba540"
      },
      "execution_count": null,
      "outputs": [
        {
          "output_type": "stream",
          "name": "stdout",
          "text": [
            "Enter lines of text (type 'DONE' on a new line to finish):\n",
            "hello world\n",
            "practice makes perfect\n",
            "hello\n",
            "done\n",
            "DONE\n",
            "HELLO WORLD\n",
            "PRACTICE MAKES PERFECT\n",
            "HELLO\n",
            "DONE\n"
          ]
        }
      ]
    },
    {
      "cell_type": "code",
      "source": [
        "#4. Write a program that accepts a sequence of whitespace separated words as input and prints the\n",
        "# words after removing all duplicate words and sorting them alphanumerically.\n",
        "# Suppose the following input is supplied to the program:\n",
        "# hello world and practice makes perfect and hello world again\n",
        "# Then, the output should be:\n",
        "# again and hello makes perfect practice world\n",
        "def process_words():\n",
        "    input_string = input()\n",
        "    words = input_string.split()\n",
        "    unique_words = set(words)\n",
        "    sorted_words = sorted(unique_words)\n",
        "    result = ' '.join(sorted_words)\n",
        "    print(result)\n",
        "\n",
        "process_words()\n"
      ],
      "metadata": {
        "colab": {
          "base_uri": "https://localhost:8080/"
        },
        "id": "qtoJhLtdzVZc",
        "outputId": "2feb39e7-0d1d-40c1-d842-ba2b9febc3c3"
      },
      "execution_count": null,
      "outputs": [
        {
          "output_type": "stream",
          "name": "stdout",
          "text": [
            "hello world and practice makes perfect and hello world again\n",
            "again and hello makes perfect practice world\n"
          ]
        }
      ]
    },
    {
      "cell_type": "code",
      "source": [
        "# 5. Write a program that accepts a sentence and calculate the number of letters and digits.\n",
        "# Suppose the following input is supplied to the program:\n",
        "# hello world! 123\n",
        "# Then, the output should be:\n",
        "# LETTERS 10\n",
        "# DIGITS 3\n",
        "def count_letters_and_digits():\n",
        "    input_string = input()\n",
        "    letters_count = sum(c.isalpha() for c in input_string)\n",
        "    digits_count = sum(c.isdigit() for c in input_string)\n",
        "    print(f\"LETTERS {letters_count}\")\n",
        "    print(f\"DIGITS {digits_count}\")\n",
        "\n",
        "count_letters_and_digits()\n"
      ],
      "metadata": {
        "colab": {
          "base_uri": "https://localhost:8080/"
        },
        "id": "P71Z1xTwzzXF",
        "outputId": "e8e28f43-cb31-4c09-b30c-f78a849d6db3"
      },
      "execution_count": null,
      "outputs": [
        {
          "output_type": "stream",
          "name": "stdout",
          "text": [
            "hello world! 123\n",
            "LETTERS 10\n",
            "DIGITS 3\n"
          ]
        }
      ]
    },
    {
      "cell_type": "code",
      "source": [
        "# 6. Write a program which accepts a string as input to print \"Yes\" if the string is \"yes\" or \"YES\" or \"Yes\", otherwise print \"No\".\n",
        "def check_string():\n",
        "    input_string = input().strip()\n",
        "    if input_string in [\"yes\", \"YES\", \"Yes\"]:\n",
        "        print(\"Yes\")\n",
        "    else:\n",
        "        print(\"No\")\n",
        "\n",
        "check_string()\n"
      ],
      "metadata": {
        "colab": {
          "base_uri": "https://localhost:8080/"
        },
        "id": "J1v_cd2W0GtL",
        "outputId": "a0334333-d78e-4c31-dc65-d37c734f4996"
      },
      "execution_count": null,
      "outputs": [
        {
          "output_type": "stream",
          "name": "stdout",
          "text": [
            "yes\n",
            "Yes\n"
          ]
        }
      ]
    },
    {
      "cell_type": "code",
      "source": [
        "# 7. Write a program which accepts a sequence of words separated by whitespace as input to print the words composed of digits only.\n",
        "# Example:\n",
        "# If the following words is given as input to the program:\n",
        "# 2 cats and 3 dogs.\n",
        "# Then, the output of the program should be:\n",
        "# ['2', '3']\n",
        "# In case of input data being supplied to the question, it should be assumed to be a console input.\n",
        "def print_digit_words():\n",
        "    input_string = input().strip()\n",
        "    words = input_string.split()\n",
        "    digit_words = [word for word in words if word.isdigit()]\n",
        "    print(digit_words)\n",
        "\n",
        "print_digit_words()\n"
      ],
      "metadata": {
        "colab": {
          "base_uri": "https://localhost:8080/"
        },
        "id": "A6NFG2Vp0mo1",
        "outputId": "8f154dc3-a25e-40db-de65-bf3655d64fbc"
      },
      "execution_count": null,
      "outputs": [
        {
          "output_type": "stream",
          "name": "stdout",
          "text": [
            "2 cats and 3 dogs.\n",
            "['2', '3']\n"
          ]
        }
      ]
    },
    {
      "cell_type": "code",
      "source": [
        "# 8. Please write a program which count and print the numbers of each character in a string input by console.\n",
        "# Example:\n",
        "# If the following string is given as input to the program:\n",
        "# abcdefgabc\n",
        "# Then, the output of the program should be:\n",
        "# a,2\n",
        "# c,2\n",
        "# b,2\n",
        "# e,1\n",
        "# d,1\n",
        "# g,1\n",
        "# f,1\n",
        "from collections import Counter\n",
        "\n",
        "def count_characters():\n",
        "    input_string = input().strip()\n",
        "    counts = Counter(input_string)\n",
        "\n",
        "    for char in sorted(counts):\n",
        "        print(f\"{char},{counts[char]}\")\n",
        "\n",
        "count_characters()\n"
      ],
      "metadata": {
        "colab": {
          "base_uri": "https://localhost:8080/"
        },
        "id": "oH5XfCcg069V",
        "outputId": "962416ff-48eb-4b53-d707-f05a95f9a163"
      },
      "execution_count": null,
      "outputs": [
        {
          "output_type": "stream",
          "name": "stdout",
          "text": [
            "kajhkjfajkbvjkhiuhafkj\n",
            "a,3\n",
            "b,1\n",
            "f,2\n",
            "h,3\n",
            "i,1\n",
            "j,5\n",
            "k,5\n",
            "u,1\n",
            "v,1\n"
          ]
        }
      ]
    },
    {
      "cell_type": "code",
      "source": [
        "# 9.Write a program that accepts a string\n",
        "# 1.reverses it.\n",
        "# 2.checks whether it is a palindrome.\n",
        "# 3.checks whether it ends with a specific substring.\n",
        "# 4.capitalize the first letter of each word in a string\n",
        "# 5.check if a string is anagram of another string\n",
        "# 6.remove vowels from string\n",
        "# 7.find length of the longest word in a sentence\n",
        "def reverse_string(s):\n",
        "    return s[::-1]\n",
        "\n",
        "def is_palindrome(s):\n",
        "    return s == s[::-1]\n",
        "\n",
        "def ends_with(s, substring):\n",
        "    return s.endswith(substring)\n",
        "\n",
        "def capitalize_words(s):\n",
        "    return ' '.join(word.capitalize() for word in s.split())\n",
        "\n",
        "def is_anagram(s1, s2):\n",
        "    return sorted(s1) == sorted(s2)\n",
        "\n",
        "def remove_vowels(s):\n",
        "    return ''.join(c for c in s if c.lower() not in 'aeiou')\n",
        "\n",
        "def longest_word_length(s):\n",
        "    return max(len(word) for word in s.split())\n",
        "\n",
        "def main():\n",
        "    input_string = input(\"Enter the string: \")\n",
        "    print(\"Reversed String:\", reverse_string(input_string))\n",
        "    print(\"Palindrome:\", \"Yes\" if is_palindrome(input_string) else \"No\")\n",
        "    substring = input(\"Enter the substring to check: \")\n",
        "    print(\"Ends with substring:\", \"Yes\" if ends_with(input_string, substring) else \"No\")\n",
        "    print(\"Capitalized String:\", capitalize_words(input_string))\n",
        "    another_string = input(\"Enter another string to check anagram: \")\n",
        "    print(\"Anagram:\", \"Yes\" if is_anagram(input_string, another_string) else \"No\")\n",
        "    print(\"String without vowels:\", remove_vowels(input_string))\n",
        "    print(\"Length of the longest word:\", longest_word_length(input_string))\n",
        "\n",
        "main()\n"
      ],
      "metadata": {
        "colab": {
          "base_uri": "https://localhost:8080/"
        },
        "id": "6aC_8rtT1FU0",
        "outputId": "dcaad2d8-5cef-4b5f-b9e6-ab128fb6e2dc"
      },
      "execution_count": null,
      "outputs": [
        {
          "output_type": "stream",
          "name": "stdout",
          "text": [
            "Enter the string: Hello World!\n",
            "Reversed String: !dlroW olleH\n",
            "Palindrome: No\n",
            "Enter the substring to check: HEllo\n",
            "Ends with substring: No\n",
            "Capitalized String: Hello World!\n",
            "Enter another string to check anagram: world\n",
            "Anagram: No\n",
            "String without vowels: Hll Wrld!\n",
            "Length of the longest word: 6\n"
          ]
        }
      ]
    }
  ]
}